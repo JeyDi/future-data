{
 "cells": [
  {
   "cell_type": "markdown",
   "metadata": {},
   "source": [
    "# Pyarrow example\n",
    "\n",
    "Read the data wih pyarrow with examples"
   ]
  },
  {
   "cell_type": "code",
   "execution_count": 2,
   "metadata": {},
   "outputs": [],
   "source": [
    "import futuredata as fd\n",
    "import polars as pl\n",
    "from pyarrow import Table\n",
    "from pyarrow.fs import FileSystem, LocalFileSystem, S3FileSystem\n",
    "import pyarrow.dataset as ds\n"
   ]
  },
  {
   "cell_type": "code",
   "execution_count": 3,
   "metadata": {},
   "outputs": [],
   "source": [
    "str_path = \"s3://intella/test/text/article_fact/0/article_fact_0\""
   ]
  },
  {
   "cell_type": "code",
   "execution_count": 8,
   "metadata": {},
   "outputs": [],
   "source": [
    "file_system = S3FileSystem(\n",
    "    access_key=fd.settings.AWS_ACCESS_KEY_ID,\n",
    "    secret_key=fd.settings.AWS_SECRET_ACCESS_KEY,\n",
    "    allow_bucket_creation=False,\n",
    "    # endpoint_override=settings.AWS_ENDPOINT_URL,\n",
    ")\n",
    "str_path = str_path.replace(\"s3://\", \"\").replace(\"s3:/\", \"\")"
   ]
  },
  {
   "cell_type": "code",
   "execution_count": 11,
   "metadata": {},
   "outputs": [],
   "source": [
    "data_raw = ds.dataset(\n",
    "        source=str_path,\n",
    "        filesystem=file_system,\n",
    "        #partitioning=,\n",
    "        format=\"parquet\",\n",
    "    )"
   ]
  },
  {
   "cell_type": "code",
   "execution_count": 14,
   "metadata": {},
   "outputs": [
    {
     "data": {
      "text/plain": [
       "pyarrow.Table\n",
       "article_id: int64\n",
       "article_doi_id: large_string\n",
       "article_pii_id: large_string\n",
       "article_pmid_id: int32\n",
       "journal_id: int64\n",
       "section_id: int64\n",
       "special_issue_id: int64\n",
       "article_type_id: int64\n",
       "article_type_name: large_string\n",
       "submission_id: int64\n",
       "copyrights_id: int64\n",
       "manuscript_id: large_string\n",
       "reference_batch_id: large_string\n",
       "article_publisher: large_string\n",
       "article_volume: int64\n",
       "article_year: int64\n",
       "article_issue: int64\n",
       "article_number: large_string\n",
       "article_lastpage: int64\n",
       "article_pubdate_published: date32[day]\n",
       "article_pubdate_received: date32[day]\n",
       "article_pubdate_revised: date32[day]\n",
       "article_pubdate_accepted: date32[day]\n",
       "article_date_inserted: timestamp[us]\n",
       "article_date_updated: timestamp[us]\n",
       "article_date_published: timestamp[us]\n",
       "article_title: large_string\n",
       "article_abstract: large_string\n",
       "article_keywords: large_list<item: large_string>\n",
       "  child 0, item: large_string\n",
       "article_reference_citeby_number: int64\n",
       "article_reference_citeby_number_max: int64\n",
       "article_citations_last_update: timestamp[us]\n",
       "article_check_sum: large_string\n",
       "article_is_public: bool\n",
       "submission_hash_key: large_string\n",
       "submission_status_id: int64\n",
       "submission_number_authors: int64\n",
       "ai_ready: bool\n",
       "----\n",
       "article_id: [[9136,9145,9156,9162,9171,...,43748,43749,43750,43751,43752],[43753,43754,43755,43756,43757,...,49995,49996,49997,49998,49999]]\n",
       "article_doi_id: [[\"10.3390/molecules15085174\",\"10.3390/molecules15085246\",\"10.3390/M690\",\"10.3390/M691\",\"10.3390/ijerph7083071\",...,\"10.3390/md12126236\",\"10.3390/ma7128151\",\"10.3390/ma7128168\",\"10.3390/life4041050\",\"10.3390/life4041092\"],[\"10.3390/jdb2040198\",\"10.3390/jdb2040210\",\"10.3390/jcm3041511\",\"10.3390/ijgi3041445\",\"10.3390/healthcare2040516\",...,\"10.3390/v7052592\",\"10.3390/v7052618\",\"10.3390/v7052641\",\"10.3390/v7052654\",\"10.3390/su7056278\"]]\n",
       "article_pii_id: [[\"molecules15085174\",\"molecules15085246\",\"M690\",\"M691\",\"ijerph7083071\",...,\"md12126236\",\"ma7128151\",\"ma7128168\",\"life4041050\",\"life4041092\"],[\"jdb2040198\",\"jdb2040210\",\"jcm3041511\",\"ijgi3041445\",\"healthcare2040516\",...,\"v7052592\",\"v7052618\",\"v7052641\",\"v7052654\",\"su7056278\"]]\n",
       "article_pmid_id: [[20714294,20714296,null,null,20948948,...,25532565,28788295,28788296,25532530,25532531],[null,null,26237613,null,27429291,...,26008702,26008703,26008704,26008705,null]]\n",
       "journal_id: [[1,1,11,11,6,...,4,14,14,51,51],[134,134,93,113,157,...,8,8,8,8,15]]\n",
       "section_id: [[null,null,null,null,null,...,null,68,66,84,84],[null,null,493,null,null,...,null,62,52,63,86]]\n",
       "special_issue_id: [[414,307,null,null,588,...,3401,null,null,3249,3305],[3087,3087,3459,null,null,...,3663,null,null,3674,null]]\n",
       "article_type_id: [[30,28,32,32,28,...,30,28,30,28,30],[28,28,30,28,28,...,30,28,28,28,28]]\n",
       "article_type_name: [[\"Review\",\"Article\",\"Short Note\",\"Short Note\",\"Article\",...,\"Review\",\"Article\",\"Review\",\"Article\",\"Review\"],[\"Article\",\"Article\",\"Review\",\"Article\",\"Article\",...,\"Review\",\"Article\",\"Article\",\"Article\",\"Article\"]]\n",
       "submission_id: [[303,248,238,239,133,...,66805,67380,64051,68696,66944],[67715,68918,66134,62080,67238,...,81811,81889,84645,82689,79046]]\n",
       "..."
      ]
     },
     "execution_count": 14,
     "metadata": {},
     "output_type": "execute_result"
    }
   ],
   "source": [
    "data_table = data_raw.to_table()\n",
    "data_table"
   ]
  },
  {
   "cell_type": "code",
   "execution_count": 15,
   "metadata": {},
   "outputs": [
    {
     "data": {
      "text/html": [
       "<div><style>\n",
       ".dataframe > thead > tr,\n",
       ".dataframe > tbody > tr {\n",
       "  text-align: right;\n",
       "  white-space: pre-wrap;\n",
       "}\n",
       "</style>\n",
       "<small>shape: (38_785, 38)</small><table border=\"1\" class=\"dataframe\"><thead><tr><th>article_id</th><th>article_doi_id</th><th>article_pii_id</th><th>article_pmid_id</th><th>journal_id</th><th>section_id</th><th>special_issue_id</th><th>article_type_id</th><th>article_type_name</th><th>submission_id</th><th>copyrights_id</th><th>manuscript_id</th><th>reference_batch_id</th><th>article_publisher</th><th>article_volume</th><th>article_year</th><th>article_issue</th><th>article_number</th><th>article_lastpage</th><th>article_pubdate_published</th><th>article_pubdate_received</th><th>article_pubdate_revised</th><th>article_pubdate_accepted</th><th>article_date_inserted</th><th>article_date_updated</th><th>article_date_published</th><th>article_title</th><th>article_abstract</th><th>article_keywords</th><th>article_reference_citeby_number</th><th>article_reference_citeby_number_max</th><th>article_citations_last_update</th><th>article_check_sum</th><th>article_is_public</th><th>submission_hash_key</th><th>submission_status_id</th><th>submission_number_authors</th><th>ai_ready</th></tr><tr><td>i64</td><td>str</td><td>str</td><td>i32</td><td>i64</td><td>i64</td><td>i64</td><td>i64</td><td>str</td><td>i64</td><td>i64</td><td>str</td><td>str</td><td>str</td><td>i64</td><td>i64</td><td>i64</td><td>str</td><td>i64</td><td>date</td><td>date</td><td>date</td><td>date</td><td>datetime[μs]</td><td>datetime[μs]</td><td>datetime[μs]</td><td>str</td><td>str</td><td>list[str]</td><td>i64</td><td>i64</td><td>datetime[μs]</td><td>str</td><td>bool</td><td>str</td><td>i64</td><td>i64</td><td>bool</td></tr></thead><tbody><tr><td>9136</td><td>&quot;10.3390/molecu…</td><td>&quot;molecules15085…</td><td>20714294</td><td>1</td><td>null</td><td>414</td><td>30</td><td>&quot;Review&quot;</td><td>303</td><td>5</td><td>&quot;molecules-303&quot;</td><td>&quot;references_201…</td><td>&quot;Molecular Dive…</td><td>15</td><td>2010</td><td>8</td><td>null</td><td>5195</td><td>2010-07-30</td><td>2010-07-14</td><td>2010-07-28</td><td>2010-07-30</td><td>2010-07-30 11:55:50</td><td>2023-03-10 01:05:43</td><td>2010-07-30 00:00:00</td><td>&quot;Chemistry of N…</td><td>&quot;The 1-methyl-2…</td><td>[&quot;unnatural 1-methyl-2-quinolone&quot;, &quot;&lt;em&gt;cine&lt;/em&gt;-substitution&quot;, … &quot;cycloaddition&quot;]</td><td>16</td><td>19</td><td>2020-11-22 20:59:09</td><td>&quot;07b1be43499172…</td><td>true</td><td>&quot;4733d49639126c…</td><td>29</td><td>1</td><td>true</td></tr><tr><td>9145</td><td>&quot;10.3390/molecu…</td><td>&quot;molecules15085…</td><td>20714296</td><td>1</td><td>null</td><td>307</td><td>28</td><td>&quot;Article&quot;</td><td>248</td><td>5</td><td>&quot;molecules-248&quot;</td><td>&quot;references_201…</td><td>&quot;Molecular Dive…</td><td>15</td><td>2010</td><td>8</td><td>null</td><td>5257</td><td>2010-08-02</td><td>2010-07-14</td><td>2010-07-28</td><td>2010-07-30</td><td>2010-08-02 08:06:50</td><td>2023-04-10 01:05:22</td><td>2010-08-02 00:00:00</td><td>&quot;Pre-Ischemic T…</td><td>&quot;Physical exerc…</td><td>[&quot;ERK1/2&quot;, &quot;exercise-induced neuroprotection&quot;, … &quot;microdialysis&quot;]</td><td>26</td><td>32</td><td>2021-10-10 21:46:05</td><td>&quot;cab3ca7837cc4e…</td><td>true</td><td>&quot;b1b7bf7cdd25bb…</td><td>29</td><td>4</td><td>true</td></tr><tr><td>9156</td><td>&quot;10.3390/M690&quot;</td><td>&quot;M690&quot;</td><td>null</td><td>11</td><td>null</td><td>null</td><td>32</td><td>&quot;Short Note&quot;</td><td>238</td><td>5</td><td>&quot;molbank-238&quot;</td><td>&quot;batch201803160…</td><td>&quot;Molecular Dive…</td><td>2010</td><td>2010</td><td>3</td><td>&quot;M690&quot;</td><td>null</td><td>2010-08-03</td><td>2010-07-12</td><td>null</td><td>2010-07-30</td><td>2010-08-03 08:28:06</td><td>2024-01-22 10:17:40</td><td>2010-08-03 00:00:00</td><td>&quot;(Z)-2-(4-Chlor…</td><td>&quot;2-Amino-6-etho…</td><td>[&quot;pyridine&quot;, &quot;dithiazolium&quot;, … &quot;heterocycle&lt;em&gt;&lt;/em&gt;&quot;]</td><td>1</td><td>9</td><td>2020-08-30 21:09:15</td><td>&quot;4b37c74a1e23d9…</td><td>true</td><td>&quot;2a760d0f1cb68d…</td><td>102</td><td>2</td><td>true</td></tr><tr><td>9162</td><td>&quot;10.3390/M691&quot;</td><td>&quot;M691&quot;</td><td>null</td><td>11</td><td>null</td><td>null</td><td>32</td><td>&quot;Short Note&quot;</td><td>239</td><td>5</td><td>&quot;molbank-239&quot;</td><td>&quot;batch201803160…</td><td>&quot;Molecular Dive…</td><td>2010</td><td>2010</td><td>3</td><td>&quot;M691&quot;</td><td>null</td><td>2010-08-03</td><td>2010-07-12</td><td>null</td><td>2010-07-30</td><td>2010-08-03 12:06:14</td><td>2024-01-22 10:17:40</td><td>2010-08-03 00:00:00</td><td>&quot;3-Amino-6-etho…</td><td>&quot;(Z)-2-(4-Chlor…</td><td>[&quot;pyridine&quot;, &quot;dithiazole&quot;, … &quot;solid support&quot;]</td><td>1</td><td>19</td><td>2020-08-30 21:09:19</td><td>&quot;9f726ee9f72e66…</td><td>true</td><td>&quot;88ad57a0a0a5f7…</td><td>102</td><td>2</td><td>true</td></tr><tr><td>9171</td><td>&quot;10.3390/ijerph…</td><td>&quot;ijerph7083071&quot;</td><td>20948948</td><td>6</td><td>null</td><td>588</td><td>28</td><td>&quot;Article&quot;</td><td>133</td><td>5</td><td>&quot;ijerph-133&quot;</td><td>&quot;batch201803151…</td><td>&quot;Molecular Dive…</td><td>7</td><td>2010</td><td>8</td><td>null</td><td>3079</td><td>2010-08-04</td><td>2010-07-08</td><td>2010-07-20</td><td>2010-07-29</td><td>2010-08-04 09:16:01</td><td>2024-01-10 01:07:23</td><td>2010-08-04 00:00:00</td><td>&quot;The More the W…</td><td>&quot;Tinnitus distu…</td><td>[&quot;noise&quot;, &quot;noise-induced hearing loss&quot;, … &quot;quality of life&quot;]</td><td>48</td><td>86</td><td>2021-12-09 22:57:17</td><td>&quot;ebb127294ee3bc…</td><td>true</td><td>&quot;97fcaf6e9206cc…</td><td>29</td><td>4</td><td>true</td></tr><tr><td>&hellip;</td><td>&hellip;</td><td>&hellip;</td><td>&hellip;</td><td>&hellip;</td><td>&hellip;</td><td>&hellip;</td><td>&hellip;</td><td>&hellip;</td><td>&hellip;</td><td>&hellip;</td><td>&hellip;</td><td>&hellip;</td><td>&hellip;</td><td>&hellip;</td><td>&hellip;</td><td>&hellip;</td><td>&hellip;</td><td>&hellip;</td><td>&hellip;</td><td>&hellip;</td><td>&hellip;</td><td>&hellip;</td><td>&hellip;</td><td>&hellip;</td><td>&hellip;</td><td>&hellip;</td><td>&hellip;</td><td>&hellip;</td><td>&hellip;</td><td>&hellip;</td><td>&hellip;</td><td>&hellip;</td><td>&hellip;</td><td>&hellip;</td><td>&hellip;</td><td>&hellip;</td><td>&hellip;</td></tr><tr><td>49995</td><td>&quot;10.3390/v70525…</td><td>&quot;v7052592&quot;</td><td>26008702</td><td>8</td><td>null</td><td>3663</td><td>30</td><td>&quot;Review&quot;</td><td>81811</td><td>1</td><td>&quot;viruses-81811&quot;</td><td>&quot;batch201803161…</td><td>&quot;Multidisciplin…</td><td>7</td><td>2015</td><td>5</td><td>null</td><td>2617</td><td>2015-05-22</td><td>2015-03-23</td><td>null</td><td>2015-05-12</td><td>2015-05-22 14:31:25</td><td>2023-05-01 01:25:10</td><td>2015-05-22 00:00:00</td><td>&quot;Interaction of…</td><td>&quot;Currently, sev…</td><td>[&quot;oncogenic viruses&quot;, &quot;host cell receptors&quot;, … &quot;entry mechanisms&quot;]</td><td>32</td><td>43</td><td>2022-01-10 07:01:58</td><td>&quot;86221701f26074…</td><td>true</td><td>&quot;fc76237ec70e14…</td><td>29</td><td>3</td><td>true</td></tr><tr><td>49996</td><td>&quot;10.3390/v70526…</td><td>&quot;v7052618&quot;</td><td>26008703</td><td>8</td><td>62</td><td>null</td><td>28</td><td>&quot;Article&quot;</td><td>81889</td><td>1</td><td>&quot;viruses-81889&quot;</td><td>&quot;batch201803161…</td><td>&quot;Multidisciplin…</td><td>7</td><td>2015</td><td>5</td><td>null</td><td>2640</td><td>2015-05-22</td><td>2015-03-24</td><td>null</td><td>2015-05-20</td><td>2015-05-22 14:35:13</td><td>2023-12-20 01:29:02</td><td>2015-05-22 00:00:00</td><td>&quot;Insights into …</td><td>&quot;Influenza viru…</td><td>[&quot;H5N1&quot;, &quot;astrocytes (U251)&quot;, … &quot;CNS disorder&quot;]</td><td>19</td><td>27</td><td>2022-01-06 07:48:25</td><td>&quot;480c815030791c…</td><td>true</td><td>&quot;a682e2b61f3d5f…</td><td>29</td><td>7</td><td>true</td></tr><tr><td>49997</td><td>&quot;10.3390/v70526…</td><td>&quot;v7052641&quot;</td><td>26008704</td><td>8</td><td>52</td><td>null</td><td>28</td><td>&quot;Article&quot;</td><td>84645</td><td>1</td><td>&quot;viruses-84645&quot;</td><td>&quot;batch201803161…</td><td>&quot;Multidisciplin…</td><td>7</td><td>2015</td><td>5</td><td>null</td><td>2653</td><td>2015-05-22</td><td>2015-04-20</td><td>2015-05-12</td><td>2015-05-20</td><td>2015-05-22 14:39:59</td><td>2022-02-18 12:16:28</td><td>2015-05-22 00:00:00</td><td>&quot;The Agrobacter…</td><td>&quot;Cassava mosaic…</td><td>[&quot;geminivirus&quot;, &quot;agroinfection&quot;, … &quot;SLCMV&quot;]</td><td>4</td><td>6</td><td>2020-08-31 06:53:20</td><td>&quot;b9a4e6d549c8b1…</td><td>true</td><td>&quot;0e6d658b4e33ee…</td><td>29</td><td>4</td><td>true</td></tr><tr><td>49998</td><td>&quot;10.3390/v70526…</td><td>&quot;v7052654&quot;</td><td>26008705</td><td>8</td><td>63</td><td>3674</td><td>28</td><td>&quot;Article&quot;</td><td>82689</td><td>1</td><td>&quot;viruses-82689&quot;</td><td>&quot;batch201803161…</td><td>&quot;Multidisciplin…</td><td>7</td><td>2015</td><td>5</td><td>null</td><td>2667</td><td>2015-05-22</td><td>2015-03-31</td><td>2015-04-27</td><td>2015-05-20</td><td>2015-05-22 14:42:41</td><td>2023-12-11 12:00:41</td><td>2015-05-22 00:00:00</td><td>&quot;Dynamics of Ap…</td><td>&quot;Apis mellifera…</td><td>[&quot;&lt;i&gt;Apis mellifera&lt;/i&gt;&quot;, &quot;filamentous virus&quot;, … &quot;RNA viruses&quot;]</td><td>29</td><td>40</td><td>2022-02-28 03:26:55</td><td>&quot;1a8fc4dc60df6e…</td><td>true</td><td>&quot;820d51ec07a341…</td><td>29</td><td>5</td><td>true</td></tr><tr><td>49999</td><td>&quot;10.3390/su7056…</td><td>&quot;su7056278&quot;</td><td>null</td><td>15</td><td>86</td><td>null</td><td>28</td><td>&quot;Article&quot;</td><td>79046</td><td>1</td><td>&quot;sustainability…</td><td>&quot;batch201803161…</td><td>&quot;Multidisciplin…</td><td>7</td><td>2015</td><td>5</td><td>null</td><td>6302</td><td>2015-05-22</td><td>2015-02-20</td><td>null</td><td>2015-04-24</td><td>2015-05-22 14:46:04</td><td>2023-06-10 14:01:16</td><td>2015-05-22 00:00:00</td><td>&quot;Why Include Im…</td><td>&quot;Loss of biodiv…</td><td>[&quot;LCIA&quot;, &quot;biodiversity&quot;, … &quot; structural indicators&quot;]</td><td>17</td><td>20</td><td>2021-07-09 14:23:07</td><td>&quot;466435659dd20b…</td><td>true</td><td>&quot;b17c738cb72681…</td><td>29</td><td>2</td><td>true</td></tr></tbody></table></div>"
      ],
      "text/plain": [
       "shape: (38_785, 38)\n",
       "┌───────────┬───────────┬───────────┬───────────┬───┬───────────┬───────────┬───────────┬──────────┐\n",
       "│ article_i ┆ article_d ┆ article_p ┆ article_p ┆ … ┆ submissio ┆ submissio ┆ submissio ┆ ai_ready │\n",
       "│ d         ┆ oi_id     ┆ ii_id     ┆ mid_id    ┆   ┆ n_hash_ke ┆ n_status_ ┆ n_number_ ┆ ---      │\n",
       "│ ---       ┆ ---       ┆ ---       ┆ ---       ┆   ┆ y         ┆ id        ┆ authors   ┆ bool     │\n",
       "│ i64       ┆ str       ┆ str       ┆ i32       ┆   ┆ ---       ┆ ---       ┆ ---       ┆          │\n",
       "│           ┆           ┆           ┆           ┆   ┆ str       ┆ i64       ┆ i64       ┆          │\n",
       "╞═══════════╪═══════════╪═══════════╪═══════════╪═══╪═══════════╪═══════════╪═══════════╪══════════╡\n",
       "│ 9136      ┆ 10.3390/m ┆ molecules ┆ 20714294  ┆ … ┆ 4733d4963 ┆ 29        ┆ 1         ┆ true     │\n",
       "│           ┆ olecules1 ┆ 15085174  ┆           ┆   ┆ 9126ced2c ┆           ┆           ┆          │\n",
       "│           ┆ 5085174   ┆           ┆           ┆   ┆ 1f9058303 ┆           ┆           ┆          │\n",
       "│           ┆           ┆           ┆           ┆   ┆ 8f089     ┆           ┆           ┆          │\n",
       "│ 9145      ┆ 10.3390/m ┆ molecules ┆ 20714296  ┆ … ┆ b1b7bf7cd ┆ 29        ┆ 4         ┆ true     │\n",
       "│           ┆ olecules1 ┆ 15085246  ┆           ┆   ┆ d25bbc7a0 ┆           ┆           ┆          │\n",
       "│           ┆ 5085246   ┆           ┆           ┆   ┆ 093bea53b ┆           ┆           ┆          │\n",
       "│           ┆           ┆           ┆           ┆   ┆ ce8e2     ┆           ┆           ┆          │\n",
       "│ 9156      ┆ 10.3390/M ┆ M690      ┆ null      ┆ … ┆ 2a760d0f1 ┆ 102       ┆ 2         ┆ true     │\n",
       "│           ┆ 690       ┆           ┆           ┆   ┆ cb68d0ac9 ┆           ┆           ┆          │\n",
       "│           ┆           ┆           ┆           ┆   ┆ 5f507771e ┆           ┆           ┆          │\n",
       "│           ┆           ┆           ┆           ┆   ┆ 4d01e     ┆           ┆           ┆          │\n",
       "│ 9162      ┆ 10.3390/M ┆ M691      ┆ null      ┆ … ┆ 88ad57a0a ┆ 102       ┆ 2         ┆ true     │\n",
       "│           ┆ 691       ┆           ┆           ┆   ┆ 0a5f794f8 ┆           ┆           ┆          │\n",
       "│           ┆           ┆           ┆           ┆   ┆ 8fe262c58 ┆           ┆           ┆          │\n",
       "│           ┆           ┆           ┆           ┆   ┆ 4c916     ┆           ┆           ┆          │\n",
       "│ 9171      ┆ 10.3390/i ┆ ijerph708 ┆ 20948948  ┆ … ┆ 97fcaf6e9 ┆ 29        ┆ 4         ┆ true     │\n",
       "│           ┆ jerph7083 ┆ 3071      ┆           ┆   ┆ 206cca18a ┆           ┆           ┆          │\n",
       "│           ┆ 071       ┆           ┆           ┆   ┆ 6939ca81a ┆           ┆           ┆          │\n",
       "│           ┆           ┆           ┆           ┆   ┆ 8f54c     ┆           ┆           ┆          │\n",
       "│ …         ┆ …         ┆ …         ┆ …         ┆ … ┆ …         ┆ …         ┆ …         ┆ …        │\n",
       "│ 49995     ┆ 10.3390/v ┆ v7052592  ┆ 26008702  ┆ … ┆ fc76237ec ┆ 29        ┆ 3         ┆ true     │\n",
       "│           ┆ 7052592   ┆           ┆           ┆   ┆ 70e14a7ab ┆           ┆           ┆          │\n",
       "│           ┆           ┆           ┆           ┆   ┆ 14cce9d9f ┆           ┆           ┆          │\n",
       "│           ┆           ┆           ┆           ┆   ┆ 06934     ┆           ┆           ┆          │\n",
       "│ 49996     ┆ 10.3390/v ┆ v7052618  ┆ 26008703  ┆ … ┆ a682e2b61 ┆ 29        ┆ 7         ┆ true     │\n",
       "│           ┆ 7052618   ┆           ┆           ┆   ┆ f3d5f1f28 ┆           ┆           ┆          │\n",
       "│           ┆           ┆           ┆           ┆   ┆ 4b0be6bfa ┆           ┆           ┆          │\n",
       "│           ┆           ┆           ┆           ┆   ┆ a557e     ┆           ┆           ┆          │\n",
       "│ 49997     ┆ 10.3390/v ┆ v7052641  ┆ 26008704  ┆ … ┆ 0e6d658b4 ┆ 29        ┆ 4         ┆ true     │\n",
       "│           ┆ 7052641   ┆           ┆           ┆   ┆ e33eef0a9 ┆           ┆           ┆          │\n",
       "│           ┆           ┆           ┆           ┆   ┆ 5a4211e64 ┆           ┆           ┆          │\n",
       "│           ┆           ┆           ┆           ┆   ┆ 5d9ba     ┆           ┆           ┆          │\n",
       "│ 49998     ┆ 10.3390/v ┆ v7052654  ┆ 26008705  ┆ … ┆ 820d51ec0 ┆ 29        ┆ 5         ┆ true     │\n",
       "│           ┆ 7052654   ┆           ┆           ┆   ┆ 7a34103b7 ┆           ┆           ┆          │\n",
       "│           ┆           ┆           ┆           ┆   ┆ 27ffd1f73 ┆           ┆           ┆          │\n",
       "│           ┆           ┆           ┆           ┆   ┆ 72a67     ┆           ┆           ┆          │\n",
       "│ 49999     ┆ 10.3390/s ┆ su7056278 ┆ null      ┆ … ┆ b17c738cb ┆ 29        ┆ 2         ┆ true     │\n",
       "│           ┆ u7056278  ┆           ┆           ┆   ┆ 726815e56 ┆           ┆           ┆          │\n",
       "│           ┆           ┆           ┆           ┆   ┆ a54721270 ┆           ┆           ┆          │\n",
       "│           ┆           ┆           ┆           ┆   ┆ f36e2     ┆           ┆           ┆          │\n",
       "└───────────┴───────────┴───────────┴───────────┴───┴───────────┴───────────┴───────────┴──────────┘"
      ]
     },
     "execution_count": 15,
     "metadata": {},
     "output_type": "execute_result"
    }
   ],
   "source": [
    "df = pl.from_arrow(data=data_table)\n",
    "df"
   ]
  },
  {
   "cell_type": "markdown",
   "metadata": {},
   "source": [
    "Pyarrow attualmente è il modo più veloce per leggere files, attenzione però alla RAM e alle risorse.\n",
    "\n",
    "Occhio a quando si fanno le trasformazioni, perchè si rischia di non avere dei dataframe lazy.\n",
    "\n",
    "La sintassi e la documentazione è un po' ostica in generale...ma è sicuramente molto efficiente soprattutto con i file parquet"
   ]
  }
 ],
 "metadata": {
  "kernelspec": {
   "display_name": ".venv",
   "language": "python",
   "name": "python3"
  },
  "language_info": {
   "codemirror_mode": {
    "name": "ipython",
    "version": 3
   },
   "file_extension": ".py",
   "mimetype": "text/x-python",
   "name": "python",
   "nbconvert_exporter": "python",
   "pygments_lexer": "ipython3",
   "version": "3.10.13"
  }
 },
 "nbformat": 4,
 "nbformat_minor": 2
}
