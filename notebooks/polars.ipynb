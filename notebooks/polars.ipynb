{
 "cells": [
  {
   "cell_type": "markdown",
   "metadata": {},
   "source": [
    "# Polars example\n",
    "\n",
    "Read and operate using polars\n",
    "\n",
    "[Polars Kata from Luca Baggi](https://github.com/baggiponte/polars-katas)"
   ]
  },
  {
   "cell_type": "code",
   "execution_count": 8,
   "metadata": {},
   "outputs": [],
   "source": [
    "import futuredata as fd\n",
    "import polars as pl\n",
    "import pyarrow.dataset as ds"
   ]
  },
  {
   "cell_type": "code",
   "execution_count": 2,
   "metadata": {},
   "outputs": [],
   "source": [
    "storage_options = {\n",
    "    \"aws_access_key_id\": fd.settings.AWS_ACCESS_KEY_ID,\n",
    "    \"aws_secret_access_key\": fd.settings.AWS_SECRET_ACCESS_KEY,\n",
    "    \"aws_region\": fd.settings.AWS_REGION,\n",
    "}"
   ]
  },
  {
   "cell_type": "code",
   "execution_count": 11,
   "metadata": {},
   "outputs": [
    {
     "data": {
      "text/html": [
       "<i>naive plan: (run <b>LazyFrame.explain(optimized=True)</b> to see the optimized plan)</i>\n",
       "    <p></p>\n",
       "    <div><p></p>  Parquet SCAN s3://intella/test/text/article_fact/0/article_fact_0<p></p>  PROJECT */38 COLUMNS</div>"
      ],
      "text/plain": [
       "<LazyFrame [38 cols, {\"article_id\": Int64 … \"ai_ready\": Boolean}] at 0x14AA105E0>"
      ]
     },
     "execution_count": 11,
     "metadata": {},
     "output_type": "execute_result"
    }
   ],
   "source": [
    "source = \"s3://intella/test/text/article_fact/*/*\"\n",
    "df = pl.scan_parquet(source, storage_options=storage_options)\n",
    "df"
   ]
  },
  {
   "cell_type": "code",
   "execution_count": 22,
   "metadata": {},
   "outputs": [
    {
     "data": {
      "text/html": [
       "<i>naive plan: (run <b>LazyFrame.explain(optimized=True)</b> to see the optimized plan)</i>\n",
       "    <p></p>\n",
       "    <div> SELECT [col(\"article_id\"), col(\"article_title\"), col(\"article_abstract\")] FROM<p></p><p></p>    PYTHON SCAN <p></p>    PROJECT */38 COLUMNS</div>"
      ],
      "text/plain": [
       "<LazyFrame [3 cols, {\"article_id\": Int64 … \"article_abstract\": String}] at 0x14B4F5180>"
      ]
     },
     "execution_count": 22,
     "metadata": {},
     "output_type": "execute_result"
    }
   ],
   "source": [
    "# Scanning pyarrow dataset\n",
    "source = \"s3://intella/test/text/article_fact/0/article_fact_0\"\n",
    "dset = ds.dataset(source, format=\"parquet\")\n",
    "\n",
    "df = (\n",
    "    pl.scan_pyarrow_dataset(dset)\n",
    "    .select([\"article_id\", \"article_title\", \"article_abstract\"])\n",
    ")\n"
   ]
  },
  {
   "cell_type": "code",
   "execution_count": 23,
   "metadata": {},
   "outputs": [
    {
     "data": {
      "text/html": [
       "<div><style>\n",
       ".dataframe > thead > tr,\n",
       ".dataframe > tbody > tr {\n",
       "  text-align: right;\n",
       "  white-space: pre-wrap;\n",
       "}\n",
       "</style>\n",
       "<small>shape: (38_785, 3)</small><table border=\"1\" class=\"dataframe\"><thead><tr><th>article_id</th><th>article_title</th><th>article_abstract</th></tr><tr><td>i64</td><td>str</td><td>str</td></tr></thead><tbody><tr><td>9136</td><td>&quot;Chemistry of N…</td><td>&quot;The 1-methyl-2…</td></tr><tr><td>9145</td><td>&quot;Pre-Ischemic T…</td><td>&quot;Physical exerc…</td></tr><tr><td>9156</td><td>&quot;(Z)-2-(4-Chlor…</td><td>&quot;2-Amino-6-etho…</td></tr><tr><td>9162</td><td>&quot;3-Amino-6-etho…</td><td>&quot;(Z)-2-(4-Chlor…</td></tr><tr><td>9171</td><td>&quot;The More the W…</td><td>&quot;Tinnitus distu…</td></tr><tr><td>&hellip;</td><td>&hellip;</td><td>&hellip;</td></tr><tr><td>49995</td><td>&quot;Interaction of…</td><td>&quot;Currently, sev…</td></tr><tr><td>49996</td><td>&quot;Insights into …</td><td>&quot;Influenza viru…</td></tr><tr><td>49997</td><td>&quot;The Agrobacter…</td><td>&quot;Cassava mosaic…</td></tr><tr><td>49998</td><td>&quot;Dynamics of Ap…</td><td>&quot;Apis mellifera…</td></tr><tr><td>49999</td><td>&quot;Why Include Im…</td><td>&quot;Loss of biodiv…</td></tr></tbody></table></div>"
      ],
      "text/plain": [
       "shape: (38_785, 3)\n",
       "┌────────────┬───────────────────────────────────┬───────────────────────────────────┐\n",
       "│ article_id ┆ article_title                     ┆ article_abstract                  │\n",
       "│ ---        ┆ ---                               ┆ ---                               │\n",
       "│ i64        ┆ str                               ┆ str                               │\n",
       "╞════════════╪═══════════════════════════════════╪═══════════════════════════════════╡\n",
       "│ 9136       ┆ Chemistry of Nitroquinolones and… ┆ The 1-methyl-2-quinolone (MeQone… │\n",
       "│ 9145       ┆ Pre-Ischemic Treadmill Training … ┆ Physical exercise has been shown… │\n",
       "│ 9156       ┆ (Z)-2-(4-Chloro-5H-1,2,3-dithiaz… ┆ 2-Amino-6-ethoxy-4-phenylpyridin… │\n",
       "│ 9162       ┆ 3-Amino-6-ethoxy-4-phenyl-1H-pyr… ┆ (Z)-2-(4-Chloro-5H-1,2,3-dithiaz… │\n",
       "│ 9171       ┆ The More the Worse: the Grade of… ┆ Tinnitus disturbs lives and nega… │\n",
       "│ …          ┆ …                                 ┆ …                                 │\n",
       "│ 49995      ┆ Interaction of Human Tumor Virus… ┆ Currently, seven viruses, namely… │\n",
       "│ 49996      ┆ Insights into Human Astrocyte Re… ┆ Influenza virus infects not only… │\n",
       "│ 49997      ┆ The Agrobacterium tumefaciens Ti… ┆ Cassava mosaic disease is a majo… │\n",
       "│ 49998      ┆ Dynamics of Apis mellifera Filam… ┆ Apis mellifera filamentous virus… │\n",
       "│ 49999      ┆ Why Include Impacts on Biodivers… ┆ Loss of biodiversity is one of t… │\n",
       "└────────────┴───────────────────────────────────┴───────────────────────────────────┘"
      ]
     },
     "execution_count": 23,
     "metadata": {},
     "output_type": "execute_result"
    }
   ],
   "source": [
    "df.collect()"
   ]
  },
  {
   "cell_type": "markdown",
   "metadata": {},
   "source": [
    "### Streaming\n",
    "\n",
    "One additional benefit of the lazy API is that it allows queries to be executed in a streaming manner. Instead of processing the data all-at-once Polars can execute the query in batches allowing you to process datasets that are larger-than-memory.\n",
    "\n",
    "https://docs.pola.rs/user-guide/concepts/streaming/"
   ]
  },
  {
   "cell_type": "code",
   "execution_count": 24,
   "metadata": {},
   "outputs": [
    {
     "data": {
      "text/html": [
       "<div><style>\n",
       ".dataframe > thead > tr,\n",
       ".dataframe > tbody > tr {\n",
       "  text-align: right;\n",
       "  white-space: pre-wrap;\n",
       "}\n",
       "</style>\n",
       "<small>shape: (38_785, 3)</small><table border=\"1\" class=\"dataframe\"><thead><tr><th>article_id</th><th>article_title</th><th>article_abstract</th></tr><tr><td>i64</td><td>str</td><td>str</td></tr></thead><tbody><tr><td>9136</td><td>&quot;Chemistry of N…</td><td>&quot;The 1-methyl-2…</td></tr><tr><td>9145</td><td>&quot;Pre-Ischemic T…</td><td>&quot;Physical exerc…</td></tr><tr><td>9156</td><td>&quot;(Z)-2-(4-Chlor…</td><td>&quot;2-Amino-6-etho…</td></tr><tr><td>9162</td><td>&quot;3-Amino-6-etho…</td><td>&quot;(Z)-2-(4-Chlor…</td></tr><tr><td>9171</td><td>&quot;The More the W…</td><td>&quot;Tinnitus distu…</td></tr><tr><td>&hellip;</td><td>&hellip;</td><td>&hellip;</td></tr><tr><td>49995</td><td>&quot;Interaction of…</td><td>&quot;Currently, sev…</td></tr><tr><td>49996</td><td>&quot;Insights into …</td><td>&quot;Influenza viru…</td></tr><tr><td>49997</td><td>&quot;The Agrobacter…</td><td>&quot;Cassava mosaic…</td></tr><tr><td>49998</td><td>&quot;Dynamics of Ap…</td><td>&quot;Apis mellifera…</td></tr><tr><td>49999</td><td>&quot;Why Include Im…</td><td>&quot;Loss of biodiv…</td></tr></tbody></table></div>"
      ],
      "text/plain": [
       "shape: (38_785, 3)\n",
       "┌────────────┬───────────────────────────────────┬───────────────────────────────────┐\n",
       "│ article_id ┆ article_title                     ┆ article_abstract                  │\n",
       "│ ---        ┆ ---                               ┆ ---                               │\n",
       "│ i64        ┆ str                               ┆ str                               │\n",
       "╞════════════╪═══════════════════════════════════╪═══════════════════════════════════╡\n",
       "│ 9136       ┆ Chemistry of Nitroquinolones and… ┆ The 1-methyl-2-quinolone (MeQone… │\n",
       "│ 9145       ┆ Pre-Ischemic Treadmill Training … ┆ Physical exercise has been shown… │\n",
       "│ 9156       ┆ (Z)-2-(4-Chloro-5H-1,2,3-dithiaz… ┆ 2-Amino-6-ethoxy-4-phenylpyridin… │\n",
       "│ 9162       ┆ 3-Amino-6-ethoxy-4-phenyl-1H-pyr… ┆ (Z)-2-(4-Chloro-5H-1,2,3-dithiaz… │\n",
       "│ 9171       ┆ The More the Worse: the Grade of… ┆ Tinnitus disturbs lives and nega… │\n",
       "│ …          ┆ …                                 ┆ …                                 │\n",
       "│ 49995      ┆ Interaction of Human Tumor Virus… ┆ Currently, seven viruses, namely… │\n",
       "│ 49996      ┆ Insights into Human Astrocyte Re… ┆ Influenza virus infects not only… │\n",
       "│ 49997      ┆ The Agrobacterium tumefaciens Ti… ┆ Cassava mosaic disease is a majo… │\n",
       "│ 49998      ┆ Dynamics of Apis mellifera Filam… ┆ Apis mellifera filamentous virus… │\n",
       "│ 49999      ┆ Why Include Impacts on Biodivers… ┆ Loss of biodiversity is one of t… │\n",
       "└────────────┴───────────────────────────────────┴───────────────────────────────────┘"
      ]
     },
     "execution_count": 24,
     "metadata": {},
     "output_type": "execute_result"
    }
   ],
   "source": [
    "# Streaming\n",
    "df.collect(streaming=True)"
   ]
  },
  {
   "cell_type": "markdown",
   "metadata": {},
   "source": [
    "## Quindi?\n",
    "\n",
    "Polars è molto potente, è un'ottima libreria per fare manipolazione dei dati.\n",
    "\n",
    "Soprattutto ad esempio per fare la parte di trasformation di un ETL.\n",
    "\n",
    "Attenzione però al consumo di RAM e a quello che fai, specialmente a quando collezioni un dataframe"
   ]
  }
 ],
 "metadata": {
  "kernelspec": {
   "display_name": ".venv",
   "language": "python",
   "name": "python3"
  },
  "language_info": {
   "codemirror_mode": {
    "name": "ipython",
    "version": 3
   },
   "file_extension": ".py",
   "mimetype": "text/x-python",
   "name": "python",
   "nbconvert_exporter": "python",
   "pygments_lexer": "ipython3",
   "version": "3.10.13"
  },
  "orig_nbformat": 4
 },
 "nbformat": 4,
 "nbformat_minor": 2
}
