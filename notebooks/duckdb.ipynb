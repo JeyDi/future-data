{
 "cells": [
  {
   "cell_type": "markdown",
   "metadata": {},
   "source": [
    "# Duckdb example\n",
    "\n",
    "Read the data with duckdb and example\n",
    "\n",
    "SQL and Python are 2 of the top 10 [programming language of the world](https://www.tiobe.com/tiobe-index/) ;)\n"
   ]
  },
  {
   "cell_type": "code",
   "execution_count": 12,
   "metadata": {},
   "outputs": [],
   "source": [
    "import futuredata as fd"
   ]
  },
  {
   "cell_type": "code",
   "execution_count": 13,
   "metadata": {},
   "outputs": [],
   "source": [
    "duck_engine = fd.DuckEngine(database=\"duckdb\", read_only=True)\n",
    "conn = duck_engine.get_connection()"
   ]
  },
  {
   "cell_type": "code",
   "execution_count": 14,
   "metadata": {},
   "outputs": [
    {
     "data": {
      "text/plain": [
       "<duckdb.duckdb.DuckDBPyConnection at 0x1114a57f0>"
      ]
     },
     "execution_count": 14,
     "metadata": {},
     "output_type": "execute_result"
    }
   ],
   "source": [
    "# configure the settings\n",
    "conn.execute(\n",
    "    f\"\"\"\n",
    "        INSTALL httpfs;\n",
    "        LOAD httpfs;\n",
    "        SET s3_region = '{fd.settings.AWS_REGION}';\n",
    "        SET s3_access_key_id = '{fd.settings.AWS_ACCESS_KEY_ID}';\n",
    "        SET s3_secret_access_key = '{fd.settings.AWS_SECRET_ACCESS_KEY}';\n",
    "    \"\"\"\n",
    ")"
   ]
  },
  {
   "cell_type": "code",
   "execution_count": 37,
   "metadata": {},
   "outputs": [],
   "source": [
    "dataset = conn.read_parquet(\"s3://intella/test/text/article_fact/*/*\")"
   ]
  },
  {
   "cell_type": "code",
   "execution_count": 45,
   "metadata": {},
   "outputs": [],
   "source": [
    "local_dataset = conn.read_parquet(\"~/Downloads/mdpi/article_fact/*/*\")"
   ]
  },
  {
   "cell_type": "code",
   "execution_count": 46,
   "metadata": {},
   "outputs": [
    {
     "data": {
      "application/vnd.jupyter.widget-view+json": {
       "model_id": "03722032b53441c7b03cd0a58100e7b2",
       "version_major": 2,
       "version_minor": 0
      },
      "text/plain": [
       "FloatProgress(value=0.0, layout=Layout(width='auto'), style=ProgressStyle(bar_color='black'))"
      ]
     },
     "metadata": {},
     "output_type": "display_data"
    }
   ],
   "source": [
    "# materialize the dataframe using polars\n",
    "df = local_dataset.pl()"
   ]
  },
  {
   "cell_type": "code",
   "execution_count": 47,
   "metadata": {},
   "outputs": [
    {
     "data": {
      "text/plain": [
       "polars.dataframe.frame.DataFrame"
      ]
     },
     "execution_count": 47,
     "metadata": {},
     "output_type": "execute_result"
    }
   ],
   "source": [
    "type(df)"
   ]
  },
  {
   "cell_type": "code",
   "execution_count": 38,
   "metadata": {},
   "outputs": [
    {
     "data": {
      "text/plain": [
       "['article_id',\n",
       " 'article_doi_id',\n",
       " 'article_pii_id',\n",
       " 'article_pmid_id',\n",
       " 'journal_id',\n",
       " 'section_id',\n",
       " 'special_issue_id',\n",
       " 'article_type_id',\n",
       " 'article_type_name',\n",
       " 'submission_id',\n",
       " 'copyrights_id',\n",
       " 'manuscript_id',\n",
       " 'reference_batch_id',\n",
       " 'article_publisher',\n",
       " 'article_volume',\n",
       " 'article_year',\n",
       " 'article_issue',\n",
       " 'article_number',\n",
       " 'article_lastpage',\n",
       " 'article_pubdate_published',\n",
       " 'article_pubdate_received',\n",
       " 'article_pubdate_revised',\n",
       " 'article_pubdate_accepted',\n",
       " 'article_date_inserted',\n",
       " 'article_date_updated',\n",
       " 'article_date_published',\n",
       " 'article_title',\n",
       " 'article_abstract',\n",
       " 'article_keywords',\n",
       " 'article_reference_citeby_number',\n",
       " 'article_reference_citeby_number_max',\n",
       " 'article_citations_last_update',\n",
       " 'article_check_sum',\n",
       " 'article_is_public',\n",
       " 'submission_hash_key',\n",
       " 'submission_status_id',\n",
       " 'submission_number_authors',\n",
       " 'ai_ready']"
      ]
     },
     "execution_count": 38,
     "metadata": {},
     "output_type": "execute_result"
    }
   ],
   "source": [
    "dataset.columns"
   ]
  },
  {
   "cell_type": "code",
   "execution_count": 41,
   "metadata": {},
   "outputs": [
    {
     "data": {
      "application/vnd.jupyter.widget-view+json": {
       "model_id": "51b032720b814838a448f015d8e31cba",
       "version_major": 2,
       "version_minor": 0
      },
      "text/plain": [
       "FloatProgress(value=0.0, layout=Layout(width='auto'), style=ProgressStyle(bar_color='black'))"
      ]
     },
     "metadata": {},
     "output_type": "display_data"
    },
    {
     "data": {
      "text/plain": [
       "┌──────────────────────┬───────────────────────────────────────────────────────────────────────────────────────────────┐\n",
       "│    article_title     │                                       article_abstract                                        │\n",
       "│       varchar        │                                            varchar                                            │\n",
       "├──────────────────────┼───────────────────────────────────────────────────────────────────────────────────────────────┤\n",
       "│ Chemistry of Nitro…  │ The 1-methyl-2-quinolone (MeQone) framework is often found in alkaloids and recently attent…  │\n",
       "│ Pre-Ischemic Tread…  │ Physical exercise has been shown to be beneficial in stroke patients and animal stroke mode…  │\n",
       "│ (Z)-2-(4-Chloro-5H…  │ 2-Amino-6-ethoxy-4-phenylpyridine-3,5-dicarbonitrile 1 reacts with 4,5-dichloro-1,2,3-dithi…  │\n",
       "│ 3-Amino-6-ethoxy-4…  │ (Z)-2-(4-Chloro-5H-1,2,3-dithiazol-5-ylideneamino)-6-ethoxy-4-phenylpyridine-3,5-dicarbonit…  │\n",
       "│ The More the Worse…  │ Tinnitus disturbs lives and negatively affects the quality of life of about 2% of the adult…  │\n",
       "│ Chemical Constitue…  │ The free-radical-scavenging activities of various solvent extracts of Microcos paniculata w…  │\n",
       "│ Emerging Biologica…  │ Lanthionine (Lan), the thioether analog of cystine, is a natural but nonproteogenic amino a…  │\n",
       "│ Flat-Cladding Fibe…  │ We have successfully developed a flat-cladding fiber Bragg grating sensor for large cyclic …  │\n",
       "│ Study of Cyclic Qu…  │ N,N-dioctyl-azepanium, -piperidinium and -pyrrolidinium bromides 1-3, have been obtained an…  │\n",
       "│ A Facile Synthesis…  │ A mild and efficient two-step synthesis of 3-substituted β-carbolinone derivatives from 3-s…  │\n",
       "│          ·           │                                               ·                                               │\n",
       "│          ·           │                                               ·                                               │\n",
       "│          ·           │                                               ·                                               │\n",
       "│ Hard-X-ray Zone Pl…  │ The technology to focus hard-X-rays (photon energy larger than 12 keV) has made great progr…  │\n",
       "│ Pressure Dependenc…  │ High pressure NMR spectroscopy has developed into an important tool for studying conformati…  │\n",
       "│ Characterization o…  │ We set out to determine the particle-size distribution, the fiber, the bark and the leaves …  │\n",
       "│ Anti-Inflammatory …  │ Shells are by-products of oil production from Camellia oleifera which have not been harness…  │\n",
       "│ Influence of the P…  │ Zinc sulfide semiconductor nanoparticles were synthesized in an aqueous solution of polyvin…  │\n",
       "│ Integrated Coordin…  │ Automatic Generation Control (AGC) and Automatic Voltage Control (AVC) are key approaches t…  │\n",
       "│ A Coupling Kinetic…  │ A coupling kinetics model is developed to simulate the release and transport of landfill le…  │\n",
       "│ Is Sustainablity P…  │ In 2000, Mexicos National Commission of Protected Areas (CONANP) was created to encourage t…  │\n",
       "│ Recent Research of…  │ The most important target of the concept sustainability is to achieve fairness between gene…  │\n",
       "│ Chemical Character…  │ A comparative study of the chemical composition of essential oils of two very similar speci…  │\n",
       "├──────────────────────┴───────────────────────────────────────────────────────────────────────────────────────────────┤\n",
       "│ ? rows (>9999 rows, 20 shown)                                                                              2 columns │\n",
       "└──────────────────────────────────────────────────────────────────────────────────────────────────────────────────────┘"
      ]
     },
     "execution_count": 41,
     "metadata": {},
     "output_type": "execute_result"
    }
   ],
   "source": [
    "dataset.query(\"test\", \"select article_title, article_abstract from dataset\")"
   ]
  },
  {
   "cell_type": "code",
   "execution_count": 49,
   "metadata": {},
   "outputs": [
    {
     "data": {
      "application/vnd.jupyter.widget-view+json": {
       "model_id": "67d0976c5e9746bab4ff6408f76c6abe",
       "version_major": 2,
       "version_minor": 0
      },
      "text/plain": [
       "FloatProgress(value=0.0, layout=Layout(width='auto'), style=ProgressStyle(bar_color='black'))"
      ]
     },
     "metadata": {},
     "output_type": "display_data"
    },
    {
     "data": {
      "text/plain": [
       "┌────────────┬──────────────────────┬────────────────────┬───┬──────────────────────┬──────────────────────┬──────────┐\n",
       "│ article_id │    article_doi_id    │   article_pii_id   │ … │ submission_status_id │ submission_number_…  │ ai_ready │\n",
       "│   int64    │       varchar        │      varchar       │   │        int64         │        int64         │ boolean  │\n",
       "├────────────┼──────────────────────┼────────────────────┼───┼──────────────────────┼──────────────────────┼──────────┤\n",
       "│       9136 │ 10.3390/molecules1…  │ molecules15085174  │ … │                   29 │                    1 │ true     │\n",
       "│       9145 │ 10.3390/molecules1…  │ molecules15085246  │ … │                   29 │                    4 │ true     │\n",
       "│       9156 │ 10.3390/M690         │ M690               │ … │                  102 │                    2 │ true     │\n",
       "│       9162 │ 10.3390/M691         │ M691               │ … │                  102 │                    2 │ true     │\n",
       "│       9171 │ 10.3390/ijerph7083…  │ ijerph7083071      │ … │                   29 │                    4 │ true     │\n",
       "│       9260 │ 10.3390/molecules1…  │ molecules15085547  │ … │                   29 │                    7 │ true     │\n",
       "│       9276 │ 10.3390/molecules1…  │ molecules15085581  │ … │                   29 │                    3 │ true     │\n",
       "│       9286 │ 10.3390/s100807674   │ s100807674         │ … │                   29 │                    4 │ true     │\n",
       "│       9290 │ 10.3390/molecules1…  │ molecules15085644  │ … │                   29 │                    3 │ true     │\n",
       "│       9296 │ 10.3390/molecules1…  │ molecules15085680  │ … │                   29 │                    2 │ true     │\n",
       "│         ·  │         ·            │     ·              │ · │                    · │                    · │  ·       │\n",
       "│         ·  │         ·            │     ·              │ · │                    · │                    · │  ·       │\n",
       "│         ·  │         ·            │     ·              │ · │                    · │                    · │  ·       │\n",
       "│      20354 │ 10.3390/ma5101752    │ ma5101752          │ … │                   29 │                    3 │ true     │\n",
       "│      20355 │ 10.3390/ma5101774    │ ma5101774          │ … │                   29 │                    6 │ true     │\n",
       "│      20356 │ 10.3390/en5103803    │ en5103803          │ … │                   29 │                    8 │ true     │\n",
       "│      20357 │ 10.3390/ijms131012…  │ ijms131012401      │ … │                   29 │                    3 │ true     │\n",
       "│      20358 │ 10.3390/ijms131012…  │ ijms131012412      │ … │                   29 │                    6 │ true     │\n",
       "│      20359 │ 10.3390/en5103817    │ en5103817          │ … │                   29 │                    8 │ true     │\n",
       "│      20360 │ 10.3390/ijerph9103…  │ ijerph9103437      │ … │                   29 │                    3 │ true     │\n",
       "│      20361 │ 10.3390/su4102366    │ su4102366          │ … │                   29 │                    1 │ true     │\n",
       "│      20363 │ 10.3390/su4102399    │ su4102399          │ … │                   29 │                    1 │ true     │\n",
       "│      20364 │ 10.3390/molecules1…  │ molecules171011447 │ … │                   29 │                    6 │ true     │\n",
       "├────────────┴──────────────────────┴────────────────────┴───┴──────────────────────┴──────────────────────┴──────────┤\n",
       "│ ? rows (>9999 rows, 20 shown)                                                                  38 columns (6 shown) │\n",
       "└─────────────────────────────────────────────────────────────────────────────────────────────────────────────────────┘"
      ]
     },
     "execution_count": 49,
     "metadata": {},
     "output_type": "execute_result"
    }
   ],
   "source": [
    "# be carefull because remote_path should be a list\n",
    "remote_path = [\"s3://intella/test/text/article_fact/*/*\"]\n",
    "query = f\"select * from read_parquet({remote_path})\"\n",
    "conn.sql(query)"
   ]
  }
 ],
 "metadata": {
  "kernelspec": {
   "display_name": ".venv",
   "language": "python",
   "name": "python3"
  },
  "language_info": {
   "codemirror_mode": {
    "name": "ipython",
    "version": 3
   },
   "file_extension": ".py",
   "mimetype": "text/x-python",
   "name": "python",
   "nbconvert_exporter": "python",
   "pygments_lexer": "ipython3",
   "version": "3.10.13"
  }
 },
 "nbformat": 4,
 "nbformat_minor": 2
}
